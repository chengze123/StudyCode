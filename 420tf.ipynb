{
  "nbformat": 4,
  "nbformat_minor": 0,
  "metadata": {
    "colab": {
      "name": "420tf",
      "provenance": [],
      "collapsed_sections": [],
      "authorship_tag": "ABX9TyO17jLIz/MukdrXj5wcqVsQ",
      "include_colab_link": true
    },
    "kernelspec": {
      "name": "python3",
      "display_name": "Python 3"
    },
    "language_info": {
      "name": "python"
    }
  },
  "cells": [
    {
      "cell_type": "markdown",
      "metadata": {
        "id": "view-in-github",
        "colab_type": "text"
      },
      "source": [
        "<a href=\"https://colab.research.google.com/github/chengze123/StudyCode/blob/main/420tf.ipynb\" target=\"_parent\"><img src=\"https://colab.research.google.com/assets/colab-badge.svg\" alt=\"Open In Colab\"/></a>"
      ]
    },
    {
      "cell_type": "code",
      "metadata": {
        "colab": {
          "base_uri": "https://localhost:8080/"
        },
        "id": "I_fksgONL6jY",
        "outputId": "2f9c1592-f25c-4193-f729-20fd30f83a55"
      },
      "source": [
        "!pip install tensorflow_text"
      ],
      "execution_count": 1,
      "outputs": [
        {
          "output_type": "stream",
          "text": [
            "Collecting tensorflow_text\n",
            "\u001b[?25l  Downloading https://files.pythonhosted.org/packages/b6/c0/c0fed4301f592c3b56638ae7292612c17d91a43891ba1aaf9636d535beae/tensorflow_text-2.4.3-cp37-cp37m-manylinux1_x86_64.whl (3.4MB)\n",
            "\r\u001b[K     |                                | 10kB 14.0MB/s eta 0:00:01\r\u001b[K     |▏                               | 20kB 20.5MB/s eta 0:00:01\r\u001b[K     |▎                               | 30kB 25.5MB/s eta 0:00:01\r\u001b[K     |▍                               | 40kB 25.2MB/s eta 0:00:01\r\u001b[K     |▌                               | 51kB 25.4MB/s eta 0:00:01\r\u001b[K     |▋                               | 61kB 20.5MB/s eta 0:00:01\r\u001b[K     |▊                               | 71kB 20.3MB/s eta 0:00:01\r\u001b[K     |▉                               | 81kB 17.3MB/s eta 0:00:01\r\u001b[K     |▉                               | 92kB 15.9MB/s eta 0:00:01\r\u001b[K     |█                               | 102kB 17.0MB/s eta 0:00:01\r\u001b[K     |█                               | 112kB 17.0MB/s eta 0:00:01\r\u001b[K     |█▏                              | 122kB 17.0MB/s eta 0:00:01\r\u001b[K     |█▎                              | 133kB 17.0MB/s eta 0:00:01\r\u001b[K     |█▍                              | 143kB 17.0MB/s eta 0:00:01\r\u001b[K     |█▌                              | 153kB 17.0MB/s eta 0:00:01\r\u001b[K     |█▋                              | 163kB 17.0MB/s eta 0:00:01\r\u001b[K     |█▋                              | 174kB 17.0MB/s eta 0:00:01\r\u001b[K     |█▊                              | 184kB 17.0MB/s eta 0:00:01\r\u001b[K     |█▉                              | 194kB 17.0MB/s eta 0:00:01\r\u001b[K     |██                              | 204kB 17.0MB/s eta 0:00:01\r\u001b[K     |██                              | 215kB 17.0MB/s eta 0:00:01\r\u001b[K     |██▏                             | 225kB 17.0MB/s eta 0:00:01\r\u001b[K     |██▎                             | 235kB 17.0MB/s eta 0:00:01\r\u001b[K     |██▍                             | 245kB 17.0MB/s eta 0:00:01\r\u001b[K     |██▍                             | 256kB 17.0MB/s eta 0:00:01\r\u001b[K     |██▌                             | 266kB 17.0MB/s eta 0:00:01\r\u001b[K     |██▋                             | 276kB 17.0MB/s eta 0:00:01\r\u001b[K     |██▊                             | 286kB 17.0MB/s eta 0:00:01\r\u001b[K     |██▉                             | 296kB 17.0MB/s eta 0:00:01\r\u001b[K     |███                             | 307kB 17.0MB/s eta 0:00:01\r\u001b[K     |███                             | 317kB 17.0MB/s eta 0:00:01\r\u001b[K     |███▏                            | 327kB 17.0MB/s eta 0:00:01\r\u001b[K     |███▏                            | 337kB 17.0MB/s eta 0:00:01\r\u001b[K     |███▎                            | 348kB 17.0MB/s eta 0:00:01\r\u001b[K     |███▍                            | 358kB 17.0MB/s eta 0:00:01\r\u001b[K     |███▌                            | 368kB 17.0MB/s eta 0:00:01\r\u001b[K     |███▋                            | 378kB 17.0MB/s eta 0:00:01\r\u001b[K     |███▊                            | 389kB 17.0MB/s eta 0:00:01\r\u001b[K     |███▉                            | 399kB 17.0MB/s eta 0:00:01\r\u001b[K     |████                            | 409kB 17.0MB/s eta 0:00:01\r\u001b[K     |████                            | 419kB 17.0MB/s eta 0:00:01\r\u001b[K     |████                            | 430kB 17.0MB/s eta 0:00:01\r\u001b[K     |████▏                           | 440kB 17.0MB/s eta 0:00:01\r\u001b[K     |████▎                           | 450kB 17.0MB/s eta 0:00:01\r\u001b[K     |████▍                           | 460kB 17.0MB/s eta 0:00:01\r\u001b[K     |████▌                           | 471kB 17.0MB/s eta 0:00:01\r\u001b[K     |████▋                           | 481kB 17.0MB/s eta 0:00:01\r\u001b[K     |████▊                           | 491kB 17.0MB/s eta 0:00:01\r\u001b[K     |████▊                           | 501kB 17.0MB/s eta 0:00:01\r\u001b[K     |████▉                           | 512kB 17.0MB/s eta 0:00:01\r\u001b[K     |█████                           | 522kB 17.0MB/s eta 0:00:01\r\u001b[K     |█████                           | 532kB 17.0MB/s eta 0:00:01\r\u001b[K     |█████▏                          | 542kB 17.0MB/s eta 0:00:01\r\u001b[K     |█████▎                          | 552kB 17.0MB/s eta 0:00:01\r\u001b[K     |█████▍                          | 563kB 17.0MB/s eta 0:00:01\r\u001b[K     |█████▌                          | 573kB 17.0MB/s eta 0:00:01\r\u001b[K     |█████▌                          | 583kB 17.0MB/s eta 0:00:01\r\u001b[K     |█████▋                          | 593kB 17.0MB/s eta 0:00:01\r\u001b[K     |█████▊                          | 604kB 17.0MB/s eta 0:00:01\r\u001b[K     |█████▉                          | 614kB 17.0MB/s eta 0:00:01\r\u001b[K     |██████                          | 624kB 17.0MB/s eta 0:00:01\r\u001b[K     |██████                          | 634kB 17.0MB/s eta 0:00:01\r\u001b[K     |██████▏                         | 645kB 17.0MB/s eta 0:00:01\r\u001b[K     |██████▎                         | 655kB 17.0MB/s eta 0:00:01\r\u001b[K     |██████▎                         | 665kB 17.0MB/s eta 0:00:01\r\u001b[K     |██████▍                         | 675kB 17.0MB/s eta 0:00:01\r\u001b[K     |██████▌                         | 686kB 17.0MB/s eta 0:00:01\r\u001b[K     |██████▋                         | 696kB 17.0MB/s eta 0:00:01\r\u001b[K     |██████▊                         | 706kB 17.0MB/s eta 0:00:01\r\u001b[K     |██████▉                         | 716kB 17.0MB/s eta 0:00:01\r\u001b[K     |███████                         | 727kB 17.0MB/s eta 0:00:01\r\u001b[K     |███████                         | 737kB 17.0MB/s eta 0:00:01\r\u001b[K     |███████                         | 747kB 17.0MB/s eta 0:00:01\r\u001b[K     |███████▏                        | 757kB 17.0MB/s eta 0:00:01\r\u001b[K     |███████▎                        | 768kB 17.0MB/s eta 0:00:01\r\u001b[K     |███████▍                        | 778kB 17.0MB/s eta 0:00:01\r\u001b[K     |███████▌                        | 788kB 17.0MB/s eta 0:00:01\r\u001b[K     |███████▋                        | 798kB 17.0MB/s eta 0:00:01\r\u001b[K     |███████▊                        | 808kB 17.0MB/s eta 0:00:01\r\u001b[K     |███████▉                        | 819kB 17.0MB/s eta 0:00:01\r\u001b[K     |███████▉                        | 829kB 17.0MB/s eta 0:00:01\r\u001b[K     |████████                        | 839kB 17.0MB/s eta 0:00:01\r\u001b[K     |████████                        | 849kB 17.0MB/s eta 0:00:01\r\u001b[K     |████████▏                       | 860kB 17.0MB/s eta 0:00:01\r\u001b[K     |████████▎                       | 870kB 17.0MB/s eta 0:00:01\r\u001b[K     |████████▍                       | 880kB 17.0MB/s eta 0:00:01\r\u001b[K     |████████▌                       | 890kB 17.0MB/s eta 0:00:01\r\u001b[K     |████████▋                       | 901kB 17.0MB/s eta 0:00:01\r\u001b[K     |████████▋                       | 911kB 17.0MB/s eta 0:00:01\r\u001b[K     |████████▊                       | 921kB 17.0MB/s eta 0:00:01\r\u001b[K     |████████▉                       | 931kB 17.0MB/s eta 0:00:01\r\u001b[K     |█████████                       | 942kB 17.0MB/s eta 0:00:01\r\u001b[K     |█████████                       | 952kB 17.0MB/s eta 0:00:01\r\u001b[K     |█████████▏                      | 962kB 17.0MB/s eta 0:00:01\r\u001b[K     |█████████▎                      | 972kB 17.0MB/s eta 0:00:01\r\u001b[K     |█████████▍                      | 983kB 17.0MB/s eta 0:00:01\r\u001b[K     |█████████▌                      | 993kB 17.0MB/s eta 0:00:01\r\u001b[K     |█████████▌                      | 1.0MB 17.0MB/s eta 0:00:01\r\u001b[K     |█████████▋                      | 1.0MB 17.0MB/s eta 0:00:01\r\u001b[K     |█████████▊                      | 1.0MB 17.0MB/s eta 0:00:01\r\u001b[K     |█████████▉                      | 1.0MB 17.0MB/s eta 0:00:01\r\u001b[K     |██████████                      | 1.0MB 17.0MB/s eta 0:00:01\r\u001b[K     |██████████                      | 1.1MB 17.0MB/s eta 0:00:01\r\u001b[K     |██████████▏                     | 1.1MB 17.0MB/s eta 0:00:01\r\u001b[K     |██████████▎                     | 1.1MB 17.0MB/s eta 0:00:01\r\u001b[K     |██████████▎                     | 1.1MB 17.0MB/s eta 0:00:01\r\u001b[K     |██████████▍                     | 1.1MB 17.0MB/s eta 0:00:01\r\u001b[K     |██████████▌                     | 1.1MB 17.0MB/s eta 0:00:01\r\u001b[K     |██████████▋                     | 1.1MB 17.0MB/s eta 0:00:01\r\u001b[K     |██████████▊                     | 1.1MB 17.0MB/s eta 0:00:01\r\u001b[K     |██████████▉                     | 1.1MB 17.0MB/s eta 0:00:01\r\u001b[K     |███████████                     | 1.1MB 17.0MB/s eta 0:00:01\r\u001b[K     |███████████                     | 1.2MB 17.0MB/s eta 0:00:01\r\u001b[K     |███████████                     | 1.2MB 17.0MB/s eta 0:00:01\r\u001b[K     |███████████▏                    | 1.2MB 17.0MB/s eta 0:00:01\r\u001b[K     |███████████▎                    | 1.2MB 17.0MB/s eta 0:00:01\r\u001b[K     |███████████▍                    | 1.2MB 17.0MB/s eta 0:00:01\r\u001b[K     |███████████▌                    | 1.2MB 17.0MB/s eta 0:00:01\r\u001b[K     |███████████▋                    | 1.2MB 17.0MB/s eta 0:00:01\r\u001b[K     |███████████▊                    | 1.2MB 17.0MB/s eta 0:00:01\r\u001b[K     |███████████▉                    | 1.2MB 17.0MB/s eta 0:00:01\r\u001b[K     |███████████▉                    | 1.2MB 17.0MB/s eta 0:00:01\r\u001b[K     |████████████                    | 1.3MB 17.0MB/s eta 0:00:01\r\u001b[K     |████████████                    | 1.3MB 17.0MB/s eta 0:00:01\r\u001b[K     |████████████▏                   | 1.3MB 17.0MB/s eta 0:00:01\r\u001b[K     |████████████▎                   | 1.3MB 17.0MB/s eta 0:00:01\r\u001b[K     |████████████▍                   | 1.3MB 17.0MB/s eta 0:00:01\r\u001b[K     |████████████▌                   | 1.3MB 17.0MB/s eta 0:00:01\r\u001b[K     |████████████▋                   | 1.3MB 17.0MB/s eta 0:00:01\r\u001b[K     |████████████▋                   | 1.3MB 17.0MB/s eta 0:00:01\r\u001b[K     |████████████▊                   | 1.3MB 17.0MB/s eta 0:00:01\r\u001b[K     |████████████▉                   | 1.4MB 17.0MB/s eta 0:00:01\r\u001b[K     |█████████████                   | 1.4MB 17.0MB/s eta 0:00:01\r\u001b[K     |█████████████                   | 1.4MB 17.0MB/s eta 0:00:01\r\u001b[K     |█████████████▏                  | 1.4MB 17.0MB/s eta 0:00:01\r\u001b[K     |█████████████▎                  | 1.4MB 17.0MB/s eta 0:00:01\r\u001b[K     |█████████████▍                  | 1.4MB 17.0MB/s eta 0:00:01\r\u001b[K     |█████████████▍                  | 1.4MB 17.0MB/s eta 0:00:01\r\u001b[K     |█████████████▌                  | 1.4MB 17.0MB/s eta 0:00:01\r\u001b[K     |█████████████▋                  | 1.4MB 17.0MB/s eta 0:00:01\r\u001b[K     |█████████████▊                  | 1.4MB 17.0MB/s eta 0:00:01\r\u001b[K     |█████████████▉                  | 1.5MB 17.0MB/s eta 0:00:01\r\u001b[K     |██████████████                  | 1.5MB 17.0MB/s eta 0:00:01\r\u001b[K     |██████████████                  | 1.5MB 17.0MB/s eta 0:00:01\r\u001b[K     |██████████████▏                 | 1.5MB 17.0MB/s eta 0:00:01\r\u001b[K     |██████████████▏                 | 1.5MB 17.0MB/s eta 0:00:01\r\u001b[K     |██████████████▎                 | 1.5MB 17.0MB/s eta 0:00:01\r\u001b[K     |██████████████▍                 | 1.5MB 17.0MB/s eta 0:00:01\r\u001b[K     |██████████████▌                 | 1.5MB 17.0MB/s eta 0:00:01\r\u001b[K     |██████████████▋                 | 1.5MB 17.0MB/s eta 0:00:01\r\u001b[K     |██████████████▊                 | 1.5MB 17.0MB/s eta 0:00:01\r\u001b[K     |██████████████▉                 | 1.6MB 17.0MB/s eta 0:00:01\r\u001b[K     |███████████████                 | 1.6MB 17.0MB/s eta 0:00:01\r\u001b[K     |███████████████                 | 1.6MB 17.0MB/s eta 0:00:01\r\u001b[K     |███████████████                 | 1.6MB 17.0MB/s eta 0:00:01\r\u001b[K     |███████████████▏                | 1.6MB 17.0MB/s eta 0:00:01\r\u001b[K     |███████████████▎                | 1.6MB 17.0MB/s eta 0:00:01\r\u001b[K     |███████████████▍                | 1.6MB 17.0MB/s eta 0:00:01\r\u001b[K     |███████████████▌                | 1.6MB 17.0MB/s eta 0:00:01\r\u001b[K     |███████████████▋                | 1.6MB 17.0MB/s eta 0:00:01\r\u001b[K     |███████████████▊                | 1.6MB 17.0MB/s eta 0:00:01\r\u001b[K     |███████████████▊                | 1.7MB 17.0MB/s eta 0:00:01\r\u001b[K     |███████████████▉                | 1.7MB 17.0MB/s eta 0:00:01\r\u001b[K     |████████████████                | 1.7MB 17.0MB/s eta 0:00:01\r\u001b[K     |████████████████                | 1.7MB 17.0MB/s eta 0:00:01\r\u001b[K     |████████████████▏               | 1.7MB 17.0MB/s eta 0:00:01\r\u001b[K     |████████████████▎               | 1.7MB 17.0MB/s eta 0:00:01\r\u001b[K     |████████████████▍               | 1.7MB 17.0MB/s eta 0:00:01\r\u001b[K     |████████████████▌               | 1.7MB 17.0MB/s eta 0:00:01\r\u001b[K     |████████████████▌               | 1.7MB 17.0MB/s eta 0:00:01\r\u001b[K     |████████████████▋               | 1.8MB 17.0MB/s eta 0:00:01\r\u001b[K     |████████████████▊               | 1.8MB 17.0MB/s eta 0:00:01\r\u001b[K     |████████████████▉               | 1.8MB 17.0MB/s eta 0:00:01\r\u001b[K     |█████████████████               | 1.8MB 17.0MB/s eta 0:00:01\r\u001b[K     |█████████████████               | 1.8MB 17.0MB/s eta 0:00:01\r\u001b[K     |█████████████████▏              | 1.8MB 17.0MB/s eta 0:00:01\r\u001b[K     |█████████████████▎              | 1.8MB 17.0MB/s eta 0:00:01\r\u001b[K     |█████████████████▎              | 1.8MB 17.0MB/s eta 0:00:01\r\u001b[K     |█████████████████▍              | 1.8MB 17.0MB/s eta 0:00:01\r\u001b[K     |█████████████████▌              | 1.8MB 17.0MB/s eta 0:00:01\r\u001b[K     |█████████████████▋              | 1.9MB 17.0MB/s eta 0:00:01\r\u001b[K     |█████████████████▊              | 1.9MB 17.0MB/s eta 0:00:01\r\u001b[K     |█████████████████▉              | 1.9MB 17.0MB/s eta 0:00:01\r\u001b[K     |██████████████████              | 1.9MB 17.0MB/s eta 0:00:01\r\u001b[K     |██████████████████              | 1.9MB 17.0MB/s eta 0:00:01\r\u001b[K     |██████████████████              | 1.9MB 17.0MB/s eta 0:00:01\r\u001b[K     |██████████████████▏             | 1.9MB 17.0MB/s eta 0:00:01\r\u001b[K     |██████████████████▎             | 1.9MB 17.0MB/s eta 0:00:01\r\u001b[K     |██████████████████▍             | 1.9MB 17.0MB/s eta 0:00:01\r\u001b[K     |██████████████████▌             | 1.9MB 17.0MB/s eta 0:00:01\r\u001b[K     |██████████████████▋             | 2.0MB 17.0MB/s eta 0:00:01\r\u001b[K     |██████████████████▊             | 2.0MB 17.0MB/s eta 0:00:01\r\u001b[K     |██████████████████▉             | 2.0MB 17.0MB/s eta 0:00:01\r\u001b[K     |███████████████████             | 2.0MB 17.0MB/s eta 0:00:01\r\u001b[K     |███████████████████             | 2.0MB 17.0MB/s eta 0:00:01\r\u001b[K     |███████████████████             | 2.0MB 17.0MB/s eta 0:00:01\r\u001b[K     |███████████████████▏            | 2.0MB 17.0MB/s eta 0:00:01\r\u001b[K     |███████████████████▎            | 2.0MB 17.0MB/s eta 0:00:01\r\u001b[K     |███████████████████▍            | 2.0MB 17.0MB/s eta 0:00:01\r\u001b[K     |███████████████████▌            | 2.0MB 17.0MB/s eta 0:00:01\r\u001b[K     |███████████████████▋            | 2.1MB 17.0MB/s eta 0:00:01\r\u001b[K     |███████████████████▊            | 2.1MB 17.0MB/s eta 0:00:01\r\u001b[K     |███████████████████▊            | 2.1MB 17.0MB/s eta 0:00:01\r\u001b[K     |███████████████████▉            | 2.1MB 17.0MB/s eta 0:00:01\r\u001b[K     |████████████████████            | 2.1MB 17.0MB/s eta 0:00:01\r\u001b[K     |████████████████████            | 2.1MB 17.0MB/s eta 0:00:01\r\u001b[K     |████████████████████▏           | 2.1MB 17.0MB/s eta 0:00:01\r\u001b[K     |████████████████████▎           | 2.1MB 17.0MB/s eta 0:00:01\r\u001b[K     |████████████████████▍           | 2.1MB 17.0MB/s eta 0:00:01\r\u001b[K     |████████████████████▌           | 2.2MB 17.0MB/s eta 0:00:01\r\u001b[K     |████████████████████▌           | 2.2MB 17.0MB/s eta 0:00:01\r\u001b[K     |████████████████████▋           | 2.2MB 17.0MB/s eta 0:00:01\r\u001b[K     |████████████████████▊           | 2.2MB 17.0MB/s eta 0:00:01\r\u001b[K     |████████████████████▉           | 2.2MB 17.0MB/s eta 0:00:01\r\u001b[K     |█████████████████████           | 2.2MB 17.0MB/s eta 0:00:01\r\u001b[K     |█████████████████████           | 2.2MB 17.0MB/s eta 0:00:01\r\u001b[K     |█████████████████████▏          | 2.2MB 17.0MB/s eta 0:00:01\r\u001b[K     |█████████████████████▎          | 2.2MB 17.0MB/s eta 0:00:01\r\u001b[K     |█████████████████████▎          | 2.2MB 17.0MB/s eta 0:00:01\r\u001b[K     |█████████████████████▍          | 2.3MB 17.0MB/s eta 0:00:01\r\u001b[K     |█████████████████████▌          | 2.3MB 17.0MB/s eta 0:00:01\r\u001b[K     |█████████████████████▋          | 2.3MB 17.0MB/s eta 0:00:01\r\u001b[K     |█████████████████████▊          | 2.3MB 17.0MB/s eta 0:00:01\r\u001b[K     |█████████████████████▉          | 2.3MB 17.0MB/s eta 0:00:01\r\u001b[K     |██████████████████████          | 2.3MB 17.0MB/s eta 0:00:01\r\u001b[K     |██████████████████████          | 2.3MB 17.0MB/s eta 0:00:01\r\u001b[K     |██████████████████████          | 2.3MB 17.0MB/s eta 0:00:01\r\u001b[K     |██████████████████████▏         | 2.3MB 17.0MB/s eta 0:00:01\r\u001b[K     |██████████████████████▎         | 2.3MB 17.0MB/s eta 0:00:01\r\u001b[K     |██████████████████████▍         | 2.4MB 17.0MB/s eta 0:00:01\r\u001b[K     |██████████████████████▌         | 2.4MB 17.0MB/s eta 0:00:01\r\u001b[K     |██████████████████████▋         | 2.4MB 17.0MB/s eta 0:00:01\r\u001b[K     |██████████████████████▊         | 2.4MB 17.0MB/s eta 0:00:01\r\u001b[K     |██████████████████████▉         | 2.4MB 17.0MB/s eta 0:00:01\r\u001b[K     |██████████████████████▉         | 2.4MB 17.0MB/s eta 0:00:01\r\u001b[K     |███████████████████████         | 2.4MB 17.0MB/s eta 0:00:01\r\u001b[K     |███████████████████████         | 2.4MB 17.0MB/s eta 0:00:01\r\u001b[K     |███████████████████████▏        | 2.4MB 17.0MB/s eta 0:00:01\r\u001b[K     |███████████████████████▎        | 2.4MB 17.0MB/s eta 0:00:01\r\u001b[K     |███████████████████████▍        | 2.5MB 17.0MB/s eta 0:00:01\r\u001b[K     |███████████████████████▌        | 2.5MB 17.0MB/s eta 0:00:01\r\u001b[K     |███████████████████████▋        | 2.5MB 17.0MB/s eta 0:00:01\r\u001b[K     |███████████████████████▋        | 2.5MB 17.0MB/s eta 0:00:01\r\u001b[K     |███████████████████████▊        | 2.5MB 17.0MB/s eta 0:00:01\r\u001b[K     |███████████████████████▉        | 2.5MB 17.0MB/s eta 0:00:01\r\u001b[K     |████████████████████████        | 2.5MB 17.0MB/s eta 0:00:01\r\u001b[K     |████████████████████████        | 2.5MB 17.0MB/s eta 0:00:01\r\u001b[K     |████████████████████████▏       | 2.5MB 17.0MB/s eta 0:00:01\r\u001b[K     |████████████████████████▎       | 2.5MB 17.0MB/s eta 0:00:01\r\u001b[K     |████████████████████████▍       | 2.6MB 17.0MB/s eta 0:00:01\r\u001b[K     |████████████████████████▍       | 2.6MB 17.0MB/s eta 0:00:01\r\u001b[K     |████████████████████████▌       | 2.6MB 17.0MB/s eta 0:00:01\r\u001b[K     |████████████████████████▋       | 2.6MB 17.0MB/s eta 0:00:01\r\u001b[K     |████████████████████████▊       | 2.6MB 17.0MB/s eta 0:00:01\r\u001b[K     |████████████████████████▉       | 2.6MB 17.0MB/s eta 0:00:01\r\u001b[K     |█████████████████████████       | 2.6MB 17.0MB/s eta 0:00:01\r\u001b[K     |█████████████████████████       | 2.6MB 17.0MB/s eta 0:00:01\r\u001b[K     |█████████████████████████▏      | 2.6MB 17.0MB/s eta 0:00:01\r\u001b[K     |█████████████████████████▏      | 2.7MB 17.0MB/s eta 0:00:01\r\u001b[K     |█████████████████████████▎      | 2.7MB 17.0MB/s eta 0:00:01\r\u001b[K     |█████████████████████████▍      | 2.7MB 17.0MB/s eta 0:00:01\r\u001b[K     |█████████████████████████▌      | 2.7MB 17.0MB/s eta 0:00:01\r\u001b[K     |█████████████████████████▋      | 2.7MB 17.0MB/s eta 0:00:01\r\u001b[K     |█████████████████████████▊      | 2.7MB 17.0MB/s eta 0:00:01\r\u001b[K     |█████████████████████████▉      | 2.7MB 17.0MB/s eta 0:00:01\r\u001b[K     |██████████████████████████      | 2.7MB 17.0MB/s eta 0:00:01\r\u001b[K     |██████████████████████████      | 2.7MB 17.0MB/s eta 0:00:01\r\u001b[K     |██████████████████████████      | 2.7MB 17.0MB/s eta 0:00:01\r\u001b[K     |██████████████████████████▏     | 2.8MB 17.0MB/s eta 0:00:01\r\u001b[K     |██████████████████████████▎     | 2.8MB 17.0MB/s eta 0:00:01\r\u001b[K     |██████████████████████████▍     | 2.8MB 17.0MB/s eta 0:00:01\r\u001b[K     |██████████████████████████▌     | 2.8MB 17.0MB/s eta 0:00:01\r\u001b[K     |██████████████████████████▋     | 2.8MB 17.0MB/s eta 0:00:01\r\u001b[K     |██████████████████████████▊     | 2.8MB 17.0MB/s eta 0:00:01\r\u001b[K     |██████████████████████████▊     | 2.8MB 17.0MB/s eta 0:00:01\r\u001b[K     |██████████████████████████▉     | 2.8MB 17.0MB/s eta 0:00:01\r\u001b[K     |███████████████████████████     | 2.8MB 17.0MB/s eta 0:00:01\r\u001b[K     |███████████████████████████     | 2.8MB 17.0MB/s eta 0:00:01\r\u001b[K     |███████████████████████████▏    | 2.9MB 17.0MB/s eta 0:00:01\r\u001b[K     |███████████████████████████▎    | 2.9MB 17.0MB/s eta 0:00:01\r\u001b[K     |███████████████████████████▍    | 2.9MB 17.0MB/s eta 0:00:01\r\u001b[K     |███████████████████████████▌    | 2.9MB 17.0MB/s eta 0:00:01\r\u001b[K     |███████████████████████████▌    | 2.9MB 17.0MB/s eta 0:00:01\r\u001b[K     |███████████████████████████▋    | 2.9MB 17.0MB/s eta 0:00:01\r\u001b[K     |███████████████████████████▊    | 2.9MB 17.0MB/s eta 0:00:01\r\u001b[K     |███████████████████████████▉    | 2.9MB 17.0MB/s eta 0:00:01\r\u001b[K     |████████████████████████████    | 2.9MB 17.0MB/s eta 0:00:01\r\u001b[K     |████████████████████████████    | 2.9MB 17.0MB/s eta 0:00:01\r\u001b[K     |████████████████████████████▏   | 3.0MB 17.0MB/s eta 0:00:01\r\u001b[K     |████████████████████████████▎   | 3.0MB 17.0MB/s eta 0:00:01\r\u001b[K     |████████████████████████████▍   | 3.0MB 17.0MB/s eta 0:00:01\r\u001b[K     |████████████████████████████▍   | 3.0MB 17.0MB/s eta 0:00:01\r\u001b[K     |████████████████████████████▌   | 3.0MB 17.0MB/s eta 0:00:01\r\u001b[K     |████████████████████████████▋   | 3.0MB 17.0MB/s eta 0:00:01\r\u001b[K     |████████████████████████████▊   | 3.0MB 17.0MB/s eta 0:00:01\r\u001b[K     |████████████████████████████▉   | 3.0MB 17.0MB/s eta 0:00:01\r\u001b[K     |█████████████████████████████   | 3.0MB 17.0MB/s eta 0:00:01\r\u001b[K     |█████████████████████████████   | 3.1MB 17.0MB/s eta 0:00:01\r\u001b[K     |█████████████████████████████▏  | 3.1MB 17.0MB/s eta 0:00:01\r\u001b[K     |█████████████████████████████▏  | 3.1MB 17.0MB/s eta 0:00:01\r\u001b[K     |█████████████████████████████▎  | 3.1MB 17.0MB/s eta 0:00:01\r\u001b[K     |█████████████████████████████▍  | 3.1MB 17.0MB/s eta 0:00:01\r\u001b[K     |█████████████████████████████▌  | 3.1MB 17.0MB/s eta 0:00:01\r\u001b[K     |█████████████████████████████▋  | 3.1MB 17.0MB/s eta 0:00:01\r\u001b[K     |█████████████████████████████▊  | 3.1MB 17.0MB/s eta 0:00:01\r\u001b[K     |█████████████████████████████▉  | 3.1MB 17.0MB/s eta 0:00:01\r\u001b[K     |██████████████████████████████  | 3.1MB 17.0MB/s eta 0:00:01\r\u001b[K     |██████████████████████████████  | 3.2MB 17.0MB/s eta 0:00:01\r\u001b[K     |██████████████████████████████  | 3.2MB 17.0MB/s eta 0:00:01\r\u001b[K     |██████████████████████████████▏ | 3.2MB 17.0MB/s eta 0:00:01\r\u001b[K     |██████████████████████████████▎ | 3.2MB 17.0MB/s eta 0:00:01\r\u001b[K     |██████████████████████████████▍ | 3.2MB 17.0MB/s eta 0:00:01\r\u001b[K     |██████████████████████████████▌ | 3.2MB 17.0MB/s eta 0:00:01\r\u001b[K     |██████████████████████████████▋ | 3.2MB 17.0MB/s eta 0:00:01\r\u001b[K     |██████████████████████████████▊ | 3.2MB 17.0MB/s eta 0:00:01\r\u001b[K     |██████████████████████████████▊ | 3.2MB 17.0MB/s eta 0:00:01\r\u001b[K     |██████████████████████████████▉ | 3.2MB 17.0MB/s eta 0:00:01\r\u001b[K     |███████████████████████████████ | 3.3MB 17.0MB/s eta 0:00:01\r\u001b[K     |███████████████████████████████ | 3.3MB 17.0MB/s eta 0:00:01\r\u001b[K     |███████████████████████████████▏| 3.3MB 17.0MB/s eta 0:00:01\r\u001b[K     |███████████████████████████████▎| 3.3MB 17.0MB/s eta 0:00:01\r\u001b[K     |███████████████████████████████▍| 3.3MB 17.0MB/s eta 0:00:01\r\u001b[K     |███████████████████████████████▌| 3.3MB 17.0MB/s eta 0:00:01\r\u001b[K     |███████████████████████████████▌| 3.3MB 17.0MB/s eta 0:00:01\r\u001b[K     |███████████████████████████████▋| 3.3MB 17.0MB/s eta 0:00:01\r\u001b[K     |███████████████████████████████▊| 3.3MB 17.0MB/s eta 0:00:01\r\u001b[K     |███████████████████████████████▉| 3.3MB 17.0MB/s eta 0:00:01\r\u001b[K     |████████████████████████████████| 3.4MB 17.0MB/s eta 0:00:01\r\u001b[K     |████████████████████████████████| 3.4MB 17.0MB/s \n",
            "\u001b[?25hRequirement already satisfied: tensorflow-hub>=0.8.0 in /usr/local/lib/python3.7/dist-packages (from tensorflow_text) (0.12.0)\n",
            "Requirement already satisfied: tensorflow<2.5,>=2.4.0 in /usr/local/lib/python3.7/dist-packages (from tensorflow_text) (2.4.1)\n",
            "Requirement already satisfied: protobuf>=3.8.0 in /usr/local/lib/python3.7/dist-packages (from tensorflow-hub>=0.8.0->tensorflow_text) (3.12.4)\n",
            "Requirement already satisfied: numpy>=1.12.0 in /usr/local/lib/python3.7/dist-packages (from tensorflow-hub>=0.8.0->tensorflow_text) (1.19.5)\n",
            "Requirement already satisfied: absl-py~=0.10 in /usr/local/lib/python3.7/dist-packages (from tensorflow<2.5,>=2.4.0->tensorflow_text) (0.12.0)\n",
            "Requirement already satisfied: termcolor~=1.1.0 in /usr/local/lib/python3.7/dist-packages (from tensorflow<2.5,>=2.4.0->tensorflow_text) (1.1.0)\n",
            "Requirement already satisfied: tensorflow-estimator<2.5.0,>=2.4.0 in /usr/local/lib/python3.7/dist-packages (from tensorflow<2.5,>=2.4.0->tensorflow_text) (2.4.0)\n",
            "Requirement already satisfied: astunparse~=1.6.3 in /usr/local/lib/python3.7/dist-packages (from tensorflow<2.5,>=2.4.0->tensorflow_text) (1.6.3)\n",
            "Requirement already satisfied: google-pasta~=0.2 in /usr/local/lib/python3.7/dist-packages (from tensorflow<2.5,>=2.4.0->tensorflow_text) (0.2.0)\n",
            "Requirement already satisfied: grpcio~=1.32.0 in /usr/local/lib/python3.7/dist-packages (from tensorflow<2.5,>=2.4.0->tensorflow_text) (1.32.0)\n",
            "Requirement already satisfied: gast==0.3.3 in /usr/local/lib/python3.7/dist-packages (from tensorflow<2.5,>=2.4.0->tensorflow_text) (0.3.3)\n",
            "Requirement already satisfied: keras-preprocessing~=1.1.2 in /usr/local/lib/python3.7/dist-packages (from tensorflow<2.5,>=2.4.0->tensorflow_text) (1.1.2)\n",
            "Requirement already satisfied: h5py~=2.10.0 in /usr/local/lib/python3.7/dist-packages (from tensorflow<2.5,>=2.4.0->tensorflow_text) (2.10.0)\n",
            "Requirement already satisfied: wheel~=0.35 in /usr/local/lib/python3.7/dist-packages (from tensorflow<2.5,>=2.4.0->tensorflow_text) (0.36.2)\n",
            "Requirement already satisfied: tensorboard~=2.4 in /usr/local/lib/python3.7/dist-packages (from tensorflow<2.5,>=2.4.0->tensorflow_text) (2.4.1)\n",
            "Requirement already satisfied: opt-einsum~=3.3.0 in /usr/local/lib/python3.7/dist-packages (from tensorflow<2.5,>=2.4.0->tensorflow_text) (3.3.0)\n",
            "Requirement already satisfied: typing-extensions~=3.7.4 in /usr/local/lib/python3.7/dist-packages (from tensorflow<2.5,>=2.4.0->tensorflow_text) (3.7.4.3)\n",
            "Requirement already satisfied: wrapt~=1.12.1 in /usr/local/lib/python3.7/dist-packages (from tensorflow<2.5,>=2.4.0->tensorflow_text) (1.12.1)\n",
            "Requirement already satisfied: six~=1.15.0 in /usr/local/lib/python3.7/dist-packages (from tensorflow<2.5,>=2.4.0->tensorflow_text) (1.15.0)\n",
            "Requirement already satisfied: flatbuffers~=1.12.0 in /usr/local/lib/python3.7/dist-packages (from tensorflow<2.5,>=2.4.0->tensorflow_text) (1.12)\n",
            "Requirement already satisfied: setuptools in /usr/local/lib/python3.7/dist-packages (from protobuf>=3.8.0->tensorflow-hub>=0.8.0->tensorflow_text) (54.2.0)\n",
            "Requirement already satisfied: werkzeug>=0.11.15 in /usr/local/lib/python3.7/dist-packages (from tensorboard~=2.4->tensorflow<2.5,>=2.4.0->tensorflow_text) (1.0.1)\n",
            "Requirement already satisfied: markdown>=2.6.8 in /usr/local/lib/python3.7/dist-packages (from tensorboard~=2.4->tensorflow<2.5,>=2.4.0->tensorflow_text) (3.3.4)\n",
            "Requirement already satisfied: google-auth-oauthlib<0.5,>=0.4.1 in /usr/local/lib/python3.7/dist-packages (from tensorboard~=2.4->tensorflow<2.5,>=2.4.0->tensorflow_text) (0.4.4)\n",
            "Requirement already satisfied: requests<3,>=2.21.0 in /usr/local/lib/python3.7/dist-packages (from tensorboard~=2.4->tensorflow<2.5,>=2.4.0->tensorflow_text) (2.23.0)\n",
            "Requirement already satisfied: tensorboard-plugin-wit>=1.6.0 in /usr/local/lib/python3.7/dist-packages (from tensorboard~=2.4->tensorflow<2.5,>=2.4.0->tensorflow_text) (1.8.0)\n",
            "Requirement already satisfied: google-auth<2,>=1.6.3 in /usr/local/lib/python3.7/dist-packages (from tensorboard~=2.4->tensorflow<2.5,>=2.4.0->tensorflow_text) (1.28.1)\n",
            "Requirement already satisfied: importlib-metadata; python_version < \"3.8\" in /usr/local/lib/python3.7/dist-packages (from markdown>=2.6.8->tensorboard~=2.4->tensorflow<2.5,>=2.4.0->tensorflow_text) (3.10.1)\n",
            "Requirement already satisfied: requests-oauthlib>=0.7.0 in /usr/local/lib/python3.7/dist-packages (from google-auth-oauthlib<0.5,>=0.4.1->tensorboard~=2.4->tensorflow<2.5,>=2.4.0->tensorflow_text) (1.3.0)\n",
            "Requirement already satisfied: chardet<4,>=3.0.2 in /usr/local/lib/python3.7/dist-packages (from requests<3,>=2.21.0->tensorboard~=2.4->tensorflow<2.5,>=2.4.0->tensorflow_text) (3.0.4)\n",
            "Requirement already satisfied: urllib3!=1.25.0,!=1.25.1,<1.26,>=1.21.1 in /usr/local/lib/python3.7/dist-packages (from requests<3,>=2.21.0->tensorboard~=2.4->tensorflow<2.5,>=2.4.0->tensorflow_text) (1.24.3)\n",
            "Requirement already satisfied: idna<3,>=2.5 in /usr/local/lib/python3.7/dist-packages (from requests<3,>=2.21.0->tensorboard~=2.4->tensorflow<2.5,>=2.4.0->tensorflow_text) (2.10)\n",
            "Requirement already satisfied: certifi>=2017.4.17 in /usr/local/lib/python3.7/dist-packages (from requests<3,>=2.21.0->tensorboard~=2.4->tensorflow<2.5,>=2.4.0->tensorflow_text) (2020.12.5)\n",
            "Requirement already satisfied: pyasn1-modules>=0.2.1 in /usr/local/lib/python3.7/dist-packages (from google-auth<2,>=1.6.3->tensorboard~=2.4->tensorflow<2.5,>=2.4.0->tensorflow_text) (0.2.8)\n",
            "Requirement already satisfied: cachetools<5.0,>=2.0.0 in /usr/local/lib/python3.7/dist-packages (from google-auth<2,>=1.6.3->tensorboard~=2.4->tensorflow<2.5,>=2.4.0->tensorflow_text) (4.2.1)\n",
            "Requirement already satisfied: rsa<5,>=3.1.4; python_version >= \"3.6\" in /usr/local/lib/python3.7/dist-packages (from google-auth<2,>=1.6.3->tensorboard~=2.4->tensorflow<2.5,>=2.4.0->tensorflow_text) (4.7.2)\n",
            "Requirement already satisfied: zipp>=0.5 in /usr/local/lib/python3.7/dist-packages (from importlib-metadata; python_version < \"3.8\"->markdown>=2.6.8->tensorboard~=2.4->tensorflow<2.5,>=2.4.0->tensorflow_text) (3.4.1)\n",
            "Requirement already satisfied: oauthlib>=3.0.0 in /usr/local/lib/python3.7/dist-packages (from requests-oauthlib>=0.7.0->google-auth-oauthlib<0.5,>=0.4.1->tensorboard~=2.4->tensorflow<2.5,>=2.4.0->tensorflow_text) (3.1.0)\n",
            "Requirement already satisfied: pyasn1<0.5.0,>=0.4.6 in /usr/local/lib/python3.7/dist-packages (from pyasn1-modules>=0.2.1->google-auth<2,>=1.6.3->tensorboard~=2.4->tensorflow<2.5,>=2.4.0->tensorflow_text) (0.4.8)\n",
            "Installing collected packages: tensorflow-text\n",
            "Successfully installed tensorflow-text-2.4.3\n"
          ],
          "name": "stdout"
        }
      ]
    },
    {
      "cell_type": "code",
      "metadata": {
        "colab": {
          "base_uri": "https://localhost:8080/"
        },
        "id": "AWt9IpiHMLTe",
        "outputId": "d36e43b6-0f08-42e2-b1ea-857563464904"
      },
      "source": [
        "pip install tf-models-official"
      ],
      "execution_count": 2,
      "outputs": [
        {
          "output_type": "stream",
          "text": [
            "Collecting tf-models-official\n",
            "\u001b[?25l  Downloading https://files.pythonhosted.org/packages/57/4a/23a08f8fd2747867ee223612e219eeb0d11c36116601d99b55ef3c72e707/tf_models_official-2.4.0-py2.py3-none-any.whl (1.1MB)\n",
            "\u001b[K     |████████████████████████████████| 1.1MB 17.1MB/s \n",
            "\u001b[?25hRequirement already satisfied: scipy>=0.19.1 in /usr/local/lib/python3.7/dist-packages (from tf-models-official) (1.4.1)\n",
            "Requirement already satisfied: pycocotools in /usr/local/lib/python3.7/dist-packages (from tf-models-official) (2.0.2)\n",
            "Requirement already satisfied: tensorflow-datasets in /usr/local/lib/python3.7/dist-packages (from tf-models-official) (4.0.1)\n",
            "Requirement already satisfied: gin-config in /usr/local/lib/python3.7/dist-packages (from tf-models-official) (0.4.0)\n",
            "Requirement already satisfied: Pillow in /usr/local/lib/python3.7/dist-packages (from tf-models-official) (7.1.2)\n",
            "Collecting seqeval\n",
            "\u001b[?25l  Downloading https://files.pythonhosted.org/packages/9d/2d/233c79d5b4e5ab1dbf111242299153f3caddddbb691219f363ad55ce783d/seqeval-1.2.2.tar.gz (43kB)\n",
            "\u001b[K     |████████████████████████████████| 51kB 5.3MB/s \n",
            "\u001b[?25hCollecting opencv-python-headless\n",
            "\u001b[?25l  Downloading https://files.pythonhosted.org/packages/6d/6d/92f377bece9b0ec9c893081dbe073a65b38d7ac12ef572b8f70554d08760/opencv_python_headless-4.5.1.48-cp37-cp37m-manylinux2014_x86_64.whl (37.6MB)\n",
            "\u001b[K     |████████████████████████████████| 37.6MB 1.3MB/s \n",
            "\u001b[?25hCollecting tf-slim>=1.1.0\n",
            "\u001b[?25l  Downloading https://files.pythonhosted.org/packages/02/97/b0f4a64df018ca018cc035d44f2ef08f91e2e8aa67271f6f19633a015ff7/tf_slim-1.1.0-py2.py3-none-any.whl (352kB)\n",
            "\u001b[K     |████████████████████████████████| 358kB 42.2MB/s \n",
            "\u001b[?25hRequirement already satisfied: numpy>=1.15.4 in /usr/local/lib/python3.7/dist-packages (from tf-models-official) (1.19.5)\n",
            "Requirement already satisfied: pandas>=0.22.0 in /usr/local/lib/python3.7/dist-packages (from tf-models-official) (1.1.5)\n",
            "Requirement already satisfied: google-cloud-bigquery>=0.31.0 in /usr/local/lib/python3.7/dist-packages (from tf-models-official) (1.21.0)\n",
            "Requirement already satisfied: Cython in /usr/local/lib/python3.7/dist-packages (from tf-models-official) (0.29.22)\n",
            "Requirement already satisfied: google-api-python-client>=1.6.7 in /usr/local/lib/python3.7/dist-packages (from tf-models-official) (1.12.8)\n",
            "Requirement already satisfied: psutil>=5.4.3 in /usr/local/lib/python3.7/dist-packages (from tf-models-official) (5.4.8)\n",
            "Collecting sentencepiece\n",
            "\u001b[?25l  Downloading https://files.pythonhosted.org/packages/f5/99/e0808cb947ba10f575839c43e8fafc9cc44e4a7a2c8f79c60db48220a577/sentencepiece-0.1.95-cp37-cp37m-manylinux2014_x86_64.whl (1.2MB)\n",
            "\u001b[K     |████████████████████████████████| 1.2MB 29.9MB/s \n",
            "\u001b[?25hCollecting tensorflow-model-optimization>=0.4.1\n",
            "\u001b[?25l  Downloading https://files.pythonhosted.org/packages/55/38/4fd48ea1bfcb0b6e36d949025200426fe9c3a8bfae029f0973d85518fa5a/tensorflow_model_optimization-0.5.0-py2.py3-none-any.whl (172kB)\n",
            "\u001b[K     |████████████████████████████████| 174kB 53.1MB/s \n",
            "\u001b[?25hRequirement already satisfied: tensorflow-hub>=0.6.0 in /usr/local/lib/python3.7/dist-packages (from tf-models-official) (0.12.0)\n",
            "Collecting py-cpuinfo>=3.3.0\n",
            "\u001b[?25l  Downloading https://files.pythonhosted.org/packages/e6/ba/77120e44cbe9719152415b97d5bfb29f4053ee987d6cb63f55ce7d50fadc/py-cpuinfo-8.0.0.tar.gz (99kB)\n",
            "\u001b[K     |████████████████████████████████| 102kB 9.4MB/s \n",
            "\u001b[?25hRequirement already satisfied: kaggle>=1.3.9 in /usr/local/lib/python3.7/dist-packages (from tf-models-official) (1.5.12)\n",
            "Requirement already satisfied: oauth2client in /usr/local/lib/python3.7/dist-packages (from tf-models-official) (4.1.3)\n",
            "Collecting tensorflow-addons\n",
            "\u001b[?25l  Downloading https://files.pythonhosted.org/packages/74/e3/56d2fe76f0bb7c88ed9b2a6a557e25e83e252aec08f13de34369cd850a0b/tensorflow_addons-0.12.1-cp37-cp37m-manylinux2010_x86_64.whl (703kB)\n",
            "\u001b[K     |████████████████████████████████| 706kB 43.2MB/s \n",
            "\u001b[?25hCollecting pyyaml>=5.1\n",
            "\u001b[?25l  Downloading https://files.pythonhosted.org/packages/7a/a5/393c087efdc78091afa2af9f1378762f9821c9c1d7a22c5753fb5ac5f97a/PyYAML-5.4.1-cp37-cp37m-manylinux1_x86_64.whl (636kB)\n",
            "\u001b[K     |████████████████████████████████| 645kB 45.6MB/s \n",
            "\u001b[?25hRequirement already satisfied: six in /usr/local/lib/python3.7/dist-packages (from tf-models-official) (1.15.0)\n",
            "Collecting dataclasses\n",
            "  Downloading https://files.pythonhosted.org/packages/26/2f/1095cdc2868052dd1e64520f7c0d5c8c550ad297e944e641dbf1ffbb9a5d/dataclasses-0.6-py3-none-any.whl\n",
            "Requirement already satisfied: tensorflow>=2.4.0 in /usr/local/lib/python3.7/dist-packages (from tf-models-official) (2.4.1)\n",
            "Requirement already satisfied: matplotlib in /usr/local/lib/python3.7/dist-packages (from tf-models-official) (3.2.2)\n",
            "Requirement already satisfied: setuptools>=18.0 in /usr/local/lib/python3.7/dist-packages (from pycocotools->tf-models-official) (54.2.0)\n",
            "Requirement already satisfied: protobuf>=3.6.1 in /usr/local/lib/python3.7/dist-packages (from tensorflow-datasets->tf-models-official) (3.12.4)\n",
            "Requirement already satisfied: requests>=2.19.0 in /usr/local/lib/python3.7/dist-packages (from tensorflow-datasets->tf-models-official) (2.23.0)\n",
            "Requirement already satisfied: termcolor in /usr/local/lib/python3.7/dist-packages (from tensorflow-datasets->tf-models-official) (1.1.0)\n",
            "Requirement already satisfied: dill in /usr/local/lib/python3.7/dist-packages (from tensorflow-datasets->tf-models-official) (0.3.3)\n",
            "Requirement already satisfied: promise in /usr/local/lib/python3.7/dist-packages (from tensorflow-datasets->tf-models-official) (2.3)\n",
            "Requirement already satisfied: tensorflow-metadata in /usr/local/lib/python3.7/dist-packages (from tensorflow-datasets->tf-models-official) (0.29.0)\n",
            "Requirement already satisfied: attrs>=18.1.0 in /usr/local/lib/python3.7/dist-packages (from tensorflow-datasets->tf-models-official) (20.3.0)\n",
            "Requirement already satisfied: tqdm in /usr/local/lib/python3.7/dist-packages (from tensorflow-datasets->tf-models-official) (4.41.1)\n",
            "Requirement already satisfied: importlib-resources; python_version < \"3.9\" in /usr/local/lib/python3.7/dist-packages (from tensorflow-datasets->tf-models-official) (5.1.2)\n",
            "Requirement already satisfied: dm-tree in /usr/local/lib/python3.7/dist-packages (from tensorflow-datasets->tf-models-official) (0.1.6)\n",
            "Requirement already satisfied: future in /usr/local/lib/python3.7/dist-packages (from tensorflow-datasets->tf-models-official) (0.16.0)\n",
            "Requirement already satisfied: absl-py in /usr/local/lib/python3.7/dist-packages (from tensorflow-datasets->tf-models-official) (0.12.0)\n",
            "Requirement already satisfied: scikit-learn>=0.21.3 in /usr/local/lib/python3.7/dist-packages (from seqeval->tf-models-official) (0.22.2.post1)\n",
            "Requirement already satisfied: pytz>=2017.2 in /usr/local/lib/python3.7/dist-packages (from pandas>=0.22.0->tf-models-official) (2018.9)\n",
            "Requirement already satisfied: python-dateutil>=2.7.3 in /usr/local/lib/python3.7/dist-packages (from pandas>=0.22.0->tf-models-official) (2.8.1)\n",
            "Requirement already satisfied: google-resumable-media!=0.4.0,<0.5.0dev,>=0.3.1 in /usr/local/lib/python3.7/dist-packages (from google-cloud-bigquery>=0.31.0->tf-models-official) (0.4.1)\n",
            "Requirement already satisfied: google-cloud-core<2.0dev,>=1.0.3 in /usr/local/lib/python3.7/dist-packages (from google-cloud-bigquery>=0.31.0->tf-models-official) (1.0.3)\n",
            "Requirement already satisfied: google-auth>=1.16.0 in /usr/local/lib/python3.7/dist-packages (from google-api-python-client>=1.6.7->tf-models-official) (1.28.1)\n",
            "Requirement already satisfied: google-api-core<2dev,>=1.21.0 in /usr/local/lib/python3.7/dist-packages (from google-api-python-client>=1.6.7->tf-models-official) (1.26.3)\n",
            "Requirement already satisfied: google-auth-httplib2>=0.0.3 in /usr/local/lib/python3.7/dist-packages (from google-api-python-client>=1.6.7->tf-models-official) (0.0.4)\n",
            "Requirement already satisfied: uritemplate<4dev,>=3.0.0 in /usr/local/lib/python3.7/dist-packages (from google-api-python-client>=1.6.7->tf-models-official) (3.0.1)\n",
            "Requirement already satisfied: httplib2<1dev,>=0.15.0 in /usr/local/lib/python3.7/dist-packages (from google-api-python-client>=1.6.7->tf-models-official) (0.17.4)\n",
            "Requirement already satisfied: urllib3 in /usr/local/lib/python3.7/dist-packages (from kaggle>=1.3.9->tf-models-official) (1.24.3)\n",
            "Requirement already satisfied: python-slugify in /usr/local/lib/python3.7/dist-packages (from kaggle>=1.3.9->tf-models-official) (4.0.1)\n",
            "Requirement already satisfied: certifi in /usr/local/lib/python3.7/dist-packages (from kaggle>=1.3.9->tf-models-official) (2020.12.5)\n",
            "Requirement already satisfied: pyasn1-modules>=0.0.5 in /usr/local/lib/python3.7/dist-packages (from oauth2client->tf-models-official) (0.2.8)\n",
            "Requirement already satisfied: rsa>=3.1.4 in /usr/local/lib/python3.7/dist-packages (from oauth2client->tf-models-official) (4.7.2)\n",
            "Requirement already satisfied: pyasn1>=0.1.7 in /usr/local/lib/python3.7/dist-packages (from oauth2client->tf-models-official) (0.4.8)\n",
            "Requirement already satisfied: typeguard>=2.7 in /usr/local/lib/python3.7/dist-packages (from tensorflow-addons->tf-models-official) (2.7.1)\n",
            "Requirement already satisfied: tensorboard~=2.4 in /usr/local/lib/python3.7/dist-packages (from tensorflow>=2.4.0->tf-models-official) (2.4.1)\n",
            "Requirement already satisfied: keras-preprocessing~=1.1.2 in /usr/local/lib/python3.7/dist-packages (from tensorflow>=2.4.0->tf-models-official) (1.1.2)\n",
            "Requirement already satisfied: grpcio~=1.32.0 in /usr/local/lib/python3.7/dist-packages (from tensorflow>=2.4.0->tf-models-official) (1.32.0)\n",
            "Requirement already satisfied: h5py~=2.10.0 in /usr/local/lib/python3.7/dist-packages (from tensorflow>=2.4.0->tf-models-official) (2.10.0)\n",
            "Requirement already satisfied: opt-einsum~=3.3.0 in /usr/local/lib/python3.7/dist-packages (from tensorflow>=2.4.0->tf-models-official) (3.3.0)\n",
            "Requirement already satisfied: google-pasta~=0.2 in /usr/local/lib/python3.7/dist-packages (from tensorflow>=2.4.0->tf-models-official) (0.2.0)\n",
            "Requirement already satisfied: gast==0.3.3 in /usr/local/lib/python3.7/dist-packages (from tensorflow>=2.4.0->tf-models-official) (0.3.3)\n",
            "Requirement already satisfied: flatbuffers~=1.12.0 in /usr/local/lib/python3.7/dist-packages (from tensorflow>=2.4.0->tf-models-official) (1.12)\n",
            "Requirement already satisfied: typing-extensions~=3.7.4 in /usr/local/lib/python3.7/dist-packages (from tensorflow>=2.4.0->tf-models-official) (3.7.4.3)\n",
            "Requirement already satisfied: tensorflow-estimator<2.5.0,>=2.4.0 in /usr/local/lib/python3.7/dist-packages (from tensorflow>=2.4.0->tf-models-official) (2.4.0)\n",
            "Requirement already satisfied: astunparse~=1.6.3 in /usr/local/lib/python3.7/dist-packages (from tensorflow>=2.4.0->tf-models-official) (1.6.3)\n",
            "Requirement already satisfied: wrapt~=1.12.1 in /usr/local/lib/python3.7/dist-packages (from tensorflow>=2.4.0->tf-models-official) (1.12.1)\n",
            "Requirement already satisfied: wheel~=0.35 in /usr/local/lib/python3.7/dist-packages (from tensorflow>=2.4.0->tf-models-official) (0.36.2)\n",
            "Requirement already satisfied: cycler>=0.10 in /usr/local/lib/python3.7/dist-packages (from matplotlib->tf-models-official) (0.10.0)\n",
            "Requirement already satisfied: pyparsing!=2.0.4,!=2.1.2,!=2.1.6,>=2.0.1 in /usr/local/lib/python3.7/dist-packages (from matplotlib->tf-models-official) (2.4.7)\n",
            "Requirement already satisfied: kiwisolver>=1.0.1 in /usr/local/lib/python3.7/dist-packages (from matplotlib->tf-models-official) (1.3.1)\n",
            "Requirement already satisfied: chardet<4,>=3.0.2 in /usr/local/lib/python3.7/dist-packages (from requests>=2.19.0->tensorflow-datasets->tf-models-official) (3.0.4)\n",
            "Requirement already satisfied: idna<3,>=2.5 in /usr/local/lib/python3.7/dist-packages (from requests>=2.19.0->tensorflow-datasets->tf-models-official) (2.10)\n",
            "Requirement already satisfied: googleapis-common-protos<2,>=1.52.0 in /usr/local/lib/python3.7/dist-packages (from tensorflow-metadata->tensorflow-datasets->tf-models-official) (1.53.0)\n",
            "Requirement already satisfied: zipp>=0.4; python_version < \"3.8\" in /usr/local/lib/python3.7/dist-packages (from importlib-resources; python_version < \"3.9\"->tensorflow-datasets->tf-models-official) (3.4.1)\n",
            "Requirement already satisfied: joblib>=0.11 in /usr/local/lib/python3.7/dist-packages (from scikit-learn>=0.21.3->seqeval->tf-models-official) (1.0.1)\n",
            "Requirement already satisfied: cachetools<5.0,>=2.0.0 in /usr/local/lib/python3.7/dist-packages (from google-auth>=1.16.0->google-api-python-client>=1.6.7->tf-models-official) (4.2.1)\n",
            "Requirement already satisfied: packaging>=14.3 in /usr/local/lib/python3.7/dist-packages (from google-api-core<2dev,>=1.21.0->google-api-python-client>=1.6.7->tf-models-official) (20.9)\n",
            "Requirement already satisfied: text-unidecode>=1.3 in /usr/local/lib/python3.7/dist-packages (from python-slugify->kaggle>=1.3.9->tf-models-official) (1.3)\n",
            "Requirement already satisfied: markdown>=2.6.8 in /usr/local/lib/python3.7/dist-packages (from tensorboard~=2.4->tensorflow>=2.4.0->tf-models-official) (3.3.4)\n",
            "Requirement already satisfied: werkzeug>=0.11.15 in /usr/local/lib/python3.7/dist-packages (from tensorboard~=2.4->tensorflow>=2.4.0->tf-models-official) (1.0.1)\n",
            "Requirement already satisfied: tensorboard-plugin-wit>=1.6.0 in /usr/local/lib/python3.7/dist-packages (from tensorboard~=2.4->tensorflow>=2.4.0->tf-models-official) (1.8.0)\n",
            "Requirement already satisfied: google-auth-oauthlib<0.5,>=0.4.1 in /usr/local/lib/python3.7/dist-packages (from tensorboard~=2.4->tensorflow>=2.4.0->tf-models-official) (0.4.4)\n",
            "Requirement already satisfied: importlib-metadata; python_version < \"3.8\" in /usr/local/lib/python3.7/dist-packages (from markdown>=2.6.8->tensorboard~=2.4->tensorflow>=2.4.0->tf-models-official) (3.10.1)\n",
            "Requirement already satisfied: requests-oauthlib>=0.7.0 in /usr/local/lib/python3.7/dist-packages (from google-auth-oauthlib<0.5,>=0.4.1->tensorboard~=2.4->tensorflow>=2.4.0->tf-models-official) (1.3.0)\n",
            "Requirement already satisfied: oauthlib>=3.0.0 in /usr/local/lib/python3.7/dist-packages (from requests-oauthlib>=0.7.0->google-auth-oauthlib<0.5,>=0.4.1->tensorboard~=2.4->tensorflow>=2.4.0->tf-models-official) (3.1.0)\n",
            "Building wheels for collected packages: seqeval, py-cpuinfo\n",
            "  Building wheel for seqeval (setup.py) ... \u001b[?25l\u001b[?25hdone\n",
            "  Created wheel for seqeval: filename=seqeval-1.2.2-cp37-none-any.whl size=16172 sha256=a2a8f44b005dcbd85198a8c3f00d8ef9c12fcfcc860e84621141bc4b2fbaeb82\n",
            "  Stored in directory: /root/.cache/pip/wheels/52/df/1b/45d75646c37428f7e626214704a0e35bd3cfc32eda37e59e5f\n",
            "  Building wheel for py-cpuinfo (setup.py) ... \u001b[?25l\u001b[?25hdone\n",
            "  Created wheel for py-cpuinfo: filename=py_cpuinfo-8.0.0-cp37-none-any.whl size=22245 sha256=570c3a48f74958e40e96e83540323baf225d591ab1135b744e45bb5d8289b85e\n",
            "  Stored in directory: /root/.cache/pip/wheels/2e/15/f5/aa2a056d223903b52cf4870134e3a01df0c723816835dd08db\n",
            "Successfully built seqeval py-cpuinfo\n",
            "Installing collected packages: seqeval, opencv-python-headless, tf-slim, sentencepiece, tensorflow-model-optimization, py-cpuinfo, tensorflow-addons, pyyaml, dataclasses, tf-models-official\n",
            "  Found existing installation: PyYAML 3.13\n",
            "    Uninstalling PyYAML-3.13:\n",
            "      Successfully uninstalled PyYAML-3.13\n",
            "Successfully installed dataclasses-0.6 opencv-python-headless-4.5.1.48 py-cpuinfo-8.0.0 pyyaml-5.4.1 sentencepiece-0.1.95 seqeval-1.2.2 tensorflow-addons-0.12.1 tensorflow-model-optimization-0.5.0 tf-models-official-2.4.0 tf-slim-1.1.0\n"
          ],
          "name": "stdout"
        }
      ]
    },
    {
      "cell_type": "code",
      "metadata": {
        "id": "LubrCYv_Lc6s"
      },
      "source": [
        "import os\n",
        "import shutil\n",
        "\n",
        "import tensorflow as tf\n",
        "import tensorflow_hub as hub\n",
        "import tensorflow_text as text\n",
        "from official.nlp import optimization  # to create AdamW optmizer\n",
        "\n",
        "import matplotlib.pyplot as plt\n",
        "\n",
        "tf.get_logger().setLevel('ERROR')"
      ],
      "execution_count": 8,
      "outputs": []
    },
    {
      "cell_type": "code",
      "metadata": {
        "id": "RrkoHUJfMoTP"
      },
      "source": [
        "#从网上下载数据集压缩包，因为我们是从本地传入所以不需要\n",
        "#url = ''https://ai.stanford.edu/~amaas/data/sentiment/aclImdb_v1.tar.gz''\n",
        "\n",
        "#解压缩，因为我们从本地传入并不需要\n",
        "#dataset = tf.keras.utils.get_file('train', url,\n",
        "                                  #untar=True, cache_dir='.',\n",
        "                                  #cache_subdir='')\n",
        "\n",
        "dataset_dir = os.path.join(os.path.dirname('./content/data'), 'train')\n",
        "\n",
        "train_dir = os.path.join(dataset_dir, 'qinggan')\n",
        "\n",
        "# remove unused folders to make it easier to load the data\n",
        "#remove_dir = os.path.join(train_dir, 'unsup')\n",
        "#shutil.rmtree(remove_dir)"
      ],
      "execution_count": 10,
      "outputs": []
    },
    {
      "cell_type": "code",
      "metadata": {
        "colab": {
          "base_uri": "https://localhost:8080/"
        },
        "id": "uecQ5WwQhUb7",
        "outputId": "362f650b-e6bd-4512-d95f-34cbc0e0eb09"
      },
      "source": [
        "AUTOTUNE = tf.data.AUTOTUNE\n",
        "batch_size = 32\n",
        "seed = 42\n",
        "\n",
        "raw_train_ds = tf.keras.preprocessing.text_dataset_from_directory(\n",
        "    'data/train',\n",
        "    batch_size=batch_size,\n",
        "    validation_split=0.2,\n",
        "    subset='training',\n",
        "    seed=seed)\n",
        "\n",
        "class_names = raw_train_ds.class_names\n",
        "train_ds = raw_train_ds.cache().prefetch(buffer_size=AUTOTUNE)\n",
        "\n",
        "val_ds = tf.keras.preprocessing.text_dataset_from_directory(\n",
        "    'data/train',\n",
        "    batch_size=batch_size,\n",
        "    validation_split=0.2,\n",
        "    subset='validation',\n",
        "    seed=seed)\n",
        "\n",
        "val_ds = val_ds.cache().prefetch(buffer_size=AUTOTUNE)\n",
        "\n",
        "test_ds = tf.keras.preprocessing.text_dataset_from_directory(\n",
        "    'data/test',\n",
        "    batch_size=batch_size)\n",
        "\n",
        "test_ds = test_ds.cache().prefetch(buffer_size=AUTOTUNE)"
      ],
      "execution_count": 13,
      "outputs": [
        {
          "output_type": "stream",
          "text": [
            "Found 10 files belonging to 3 classes.\n",
            "Using 8 files for training.\n",
            "Found 10 files belonging to 3 classes.\n",
            "Using 2 files for validation.\n",
            "Found 5 files belonging to 3 classes.\n"
          ],
          "name": "stdout"
        }
      ]
    },
    {
      "cell_type": "code",
      "metadata": {
        "colab": {
          "base_uri": "https://localhost:8080/",
          "height": 239
        },
        "id": "Y7QTgRGO3vmC",
        "outputId": "fbcbf467-3844-4b53-b9b4-d1caf8c98f70"
      },
      "source": [
        "for text_batch, label_batch in train_ds.take(1):\n",
        "  for i in range(3):\n",
        "    print(f'Review: {text_batch.numpy()[i]}')\n",
        "    label = label_batch.numpy()[i]\n",
        "    print(f'Label : {label} ({class_names[label]})')"
      ],
      "execution_count": 17,
      "outputs": [
        {
          "output_type": "error",
          "ename": "TypeError",
          "evalue": "ignored",
          "traceback": [
            "\u001b[0;31m---------------------------------------------------------------------------\u001b[0m",
            "\u001b[0;31mTypeError\u001b[0m                                 Traceback (most recent call last)",
            "\u001b[0;32m<ipython-input-17-3f453428d763>\u001b[0m in \u001b[0;36m<module>\u001b[0;34m()\u001b[0m\n\u001b[1;32m      1\u001b[0m \u001b[0;32mfor\u001b[0m \u001b[0mtext_batch\u001b[0m\u001b[0;34m,\u001b[0m \u001b[0mlabel_batch\u001b[0m \u001b[0;32min\u001b[0m \u001b[0mtrain_ds\u001b[0m\u001b[0;34m.\u001b[0m\u001b[0mtake\u001b[0m\u001b[0;34m(\u001b[0m\u001b[0;36m1\u001b[0m\u001b[0;34m)\u001b[0m\u001b[0;34m:\u001b[0m\u001b[0;34m\u001b[0m\u001b[0;34m\u001b[0m\u001b[0m\n\u001b[1;32m      2\u001b[0m   \u001b[0;32mfor\u001b[0m \u001b[0mi\u001b[0m \u001b[0;32min\u001b[0m \u001b[0mrange\u001b[0m\u001b[0;34m(\u001b[0m\u001b[0;36m3\u001b[0m\u001b[0;34m)\u001b[0m\u001b[0;34m:\u001b[0m\u001b[0;34m\u001b[0m\u001b[0;34m\u001b[0m\u001b[0m\n\u001b[0;32m----> 3\u001b[0;31m     \u001b[0mprint\u001b[0m\u001b[0;34m(\u001b[0m\u001b[0;34mf'Review: {text_batch.numpy()[i]}'\u001b[0m\u001b[0;34m,\u001b[0m\u001b[0menconding\u001b[0m\u001b[0;34m=\u001b[0m\u001b[0;34m'utf-8'\u001b[0m\u001b[0;34m)\u001b[0m\u001b[0;34m\u001b[0m\u001b[0;34m\u001b[0m\u001b[0m\n\u001b[0m\u001b[1;32m      4\u001b[0m     \u001b[0mlabel\u001b[0m \u001b[0;34m=\u001b[0m \u001b[0mlabel_batch\u001b[0m\u001b[0;34m.\u001b[0m\u001b[0mnumpy\u001b[0m\u001b[0;34m(\u001b[0m\u001b[0;34m)\u001b[0m\u001b[0;34m[\u001b[0m\u001b[0mi\u001b[0m\u001b[0;34m]\u001b[0m\u001b[0;34m\u001b[0m\u001b[0;34m\u001b[0m\u001b[0m\n\u001b[1;32m      5\u001b[0m     \u001b[0mprint\u001b[0m\u001b[0;34m(\u001b[0m\u001b[0;34mf'Label : {label} ({class_names[label]})'\u001b[0m\u001b[0;34m)\u001b[0m\u001b[0;34m\u001b[0m\u001b[0;34m\u001b[0m\u001b[0m\n",
            "\u001b[0;31mTypeError\u001b[0m: 'enconding' is an invalid keyword argument for print()"
          ]
        }
      ]
    },
    {
      "cell_type": "code",
      "metadata": {
        "id": "D-LyABIhosUx"
      },
      "source": [
        "#导入正则模块\n",
        "#import re\n",
        "#创建rm_tags函数，输入参数text文字\n",
        "#def rm_tags(text):\n",
        "    #创建re_tag为正规表达式变量，且赋值为：'<[^>]+>'\n",
        "    #re_tag=re.compile(r'<[^>]+>')\n",
        "    #将text文字中符合正则表达式条件的字符替换成空字符串\n",
        "    #return re_tag.sub('',text)"
      ],
      "execution_count": null,
      "outputs": []
    },
    {
      "cell_type": "code",
      "metadata": {
        "id": "nzZOquXKjuGV"
      },
      "source": [
        "#读取文件\n",
        "#import os\n",
        "#创建read_files函数，输入参数filetype\n",
        "#读取训练数据时filetype参数会传入\"train\"\n",
        "#读取测试数据时filetype参数会传入\"test\"\n",
        "#def read_files(filetype):\n",
        "    #读取存取文件的路径\n",
        "    #path=\"./data/\"#/content/data/train\n",
        "    #创建文件列表\n",
        "    #file_list=[]\n",
        "    \n",
        "    #设置正面评价的文件目录为positive_path\n",
        "    #positive_path=path+filetype+\"/qinggan/\"\n",
        "    #使用for循环将positive_path目录下所有的文件加入file_list\n",
        "    #for f in os.listdir(positive_path):\n",
        "        #file_list+=[positive_path+f]\n",
        "    #设置负面评价的文件目录为negative_path\n",
        "    #negative_path=path+filetype+\"/neg/\"\n",
        "    #使用for循环将positive_path目录下所有的文件加入file_list\n",
        "    #for f in os.listdir(negative_path):\n",
        "        #file_list+=[negative_path+f]\n",
        "    #显示当前读取的filetype(train或test)目录下的文件个数\n",
        "    #print('read',filetype,'files:',len(file_list))\n",
        "    #前12500项是正面，故产生12500项1的列表；后12500项是负面，故产生12500项0的列表\n",
        "    #all_labels=([1]*2+[0]*0)\n",
        "    #设置all_texts为空列表\n",
        "    #all_texts=[]\n",
        "    #fi读取file_list所有文件：\n",
        "    #使用open()打开文件使用file_input.readlines()读取文件，并使用join连接所有的文件内容\n",
        "    #用rm_tags删除tag,最后加入all_text list中\n",
        "    #for fi in file_list:\n",
        "        #with open(fi,encoding='utf-8') as file_input:\n",
        "            #all_texts+=[rm_tags(\" \".join(file_input.readlines()))]\n",
        "    #return all_labels,all_texts"
      ],
      "execution_count": null,
      "outputs": []
    },
    {
      "cell_type": "code",
      "metadata": {
        "colab": {
          "base_uri": "https://localhost:8080/",
          "height": 69
        },
        "id": "QzJlxqwMn46s",
        "outputId": "56fd6679-9950-4fb5-db07-6fe00b93bc3e"
      },
      "source": [
        "#使用read_files函数传入参数\"train\"读取训练数据\n",
        "#y_train,train_text=read_files(\"train\")\n",
        "#train_text[0]\n",
        "#y_train[0]"
      ],
      "execution_count": null,
      "outputs": [
        {
          "output_type": "stream",
          "text": [
            "read train files: 2\n"
          ],
          "name": "stdout"
        },
        {
          "output_type": "execute_result",
          "data": {
            "application/vnd.google.colaboratory.intrinsic+json": {
              "type": "string"
            },
            "text/plain": [
              "'这一年我们迎来了十九大，为新时代的发展指明了方向；迎来了改革的春风，为企业的未来点亮了希望；迎来了新一届的领导班子，带领振业奋勇向前，开启新征程。\\t\\t1'"
            ]
          },
          "metadata": {
            "tags": []
          },
          "execution_count": 50
        }
      ]
    },
    {
      "cell_type": "code",
      "metadata": {
        "id": "uxEfoARRo6_z"
      },
      "source": [
        ""
      ],
      "execution_count": null,
      "outputs": []
    }
  ]
}